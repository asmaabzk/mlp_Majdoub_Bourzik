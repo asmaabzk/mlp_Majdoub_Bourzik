{
  "nbformat": 4,
  "nbformat_minor": 0,
  "metadata": {
    "colab": {
      "provenance": []
    },
    "kernelspec": {
      "name": "python3",
      "display_name": "Python 3"
    },
    "language_info": {
      "name": "python"
    }
  },
  "cells": [
    {
      "cell_type": "markdown",
      "source": [
        "# La classe MLPClassifier : mise en pratique"
      ],
      "metadata": {
        "id": "OnEl3xSIQJ7Z"
      }
    },
    {
      "cell_type": "markdown",
      "source": [
        "**Question1:** Creez ce jeu de données (X et y) en utilisant les tableaux de numpy."
      ],
      "metadata": {
        "id": "E98QooffRcC8"
      }
    },
    {
      "cell_type": "code",
      "source": [
        "#Import Lib\n",
        "import numpy as np\n",
        "import pandas as pd\n",
        "import matplotlib.pyplot as plt\n",
        "from sklearn.neural_network import MLPClassifier\n",
        "from sklearn.metrics import confusion_matrix, classification_report,plot_confusion_matrix"
      ],
      "metadata": {
        "id": "zNuFFVJZRsSR"
      },
      "execution_count": 5,
      "outputs": []
    },
    {
      "cell_type": "code",
      "execution_count": 3,
      "metadata": {
        "id": "ovZIT3_jRRKZ"
      },
      "outputs": [],
      "source": [
        "#Creation de Jeu données\n",
        "X = np.array([[0,0],[0,1]])\n",
        "y=np.array([0,1])\n",
        "JeuTest=np.array([[2,2],[-1,-2]])"
      ]
    },
    {
      "cell_type": "markdown",
      "source": [
        "**Question2:** Créez un modèle MLP de classification avec une couche cachée de 4 neurones."
      ],
      "metadata": {
        "id": "efDonQa6WvGy"
      }
    },
    {
      "cell_type": "code",
      "source": [
        "#Création de Réseau de Neuron\n",
        "#Entrainemenet\n",
        "clf=MLPClassifier(hidden_layer_sizes=(4,)).fit(X,y)"
      ],
      "metadata": {
        "id": "Ti-fH28pRm2F",
        "colab": {
          "base_uri": "https://localhost:8080/"
        },
        "outputId": "819b863c-1a64-497b-e99a-be3c09dd9f02"
      },
      "execution_count": null,
      "outputs": [
        {
          "output_type": "stream",
          "name": "stderr",
          "text": [
            "/usr/local/lib/python3.7/dist-packages/sklearn/neural_network/_multilayer_perceptron.py:696: ConvergenceWarning: Stochastic Optimizer: Maximum iterations (200) reached and the optimization hasn't converged yet.\n",
            "  ConvergenceWarning,\n"
          ]
        }
      ]
    },
    {
      "cell_type": "code",
      "source": [
        "#Partie Test\n",
        "print(clf.predict(JeuTest))"
      ],
      "metadata": {
        "colab": {
          "base_uri": "https://localhost:8080/"
        },
        "id": "bqmUxnuMVJnL",
        "outputId": "fb3f12c5-dcf6-47db-fbb9-9503f4dbce9e"
      },
      "execution_count": null,
      "outputs": [
        {
          "output_type": "stream",
          "name": "stdout",
          "text": [
            "[1 0]\n"
          ]
        }
      ]
    },
    {
      "cell_type": "code",
      "source": [
        "#Affichage des coefficients appris\n",
        "print(clf.coefs_)\n",
        "print(clf.intercepts_)"
      ],
      "metadata": {
        "colab": {
          "base_uri": "https://localhost:8080/"
        },
        "id": "966_-dM2UsHn",
        "outputId": "72b3f92e-5f53-4e50-b667-72788ae73fec"
      },
      "execution_count": null,
      "outputs": [
        {
          "output_type": "stream",
          "name": "stdout",
          "text": [
            "[array([[ 2.11421896e-02, -2.59829514e-01, -9.02632323e-03,\n",
            "        -7.45900755e-01],\n",
            "       [-6.53716809e-01, -6.85297929e-01, -7.96098570e-01,\n",
            "        -4.69516482e-07]]), array([[-0.48791613],\n",
            "       [-0.2010699 ],\n",
            "       [-0.16265585],\n",
            "       [ 0.66850951]])]\n",
            "[array([-0.66877475,  0.69339649,  0.70753108, -0.84136777]), array([0.07491418])]\n"
          ]
        }
      ]
    },
    {
      "cell_type": "markdown",
      "source": [
        "# Travail sur le jeu données IRIS"
      ],
      "metadata": {
        "id": "DRygnC9jpUMK"
      }
    },
    {
      "cell_type": "code",
      "source": [
        "from sklearn.model_selection import train_test_split\n",
        "from sklearn.datasets import load_iris"
      ],
      "metadata": {
        "id": "M2edihidqCPM"
      },
      "execution_count": 1,
      "outputs": []
    },
    {
      "cell_type": "code",
      "source": [
        "Iris=load_iris()\n",
        "X,y=Iris.data,Iris.target"
      ],
      "metadata": {
        "id": "lr40UTdfpb0W"
      },
      "execution_count": 2,
      "outputs": []
    },
    {
      "cell_type": "code",
      "source": [
        "Xtrain,Xtest,ytrain,ytest=train_test_split(X,y,train_size=0.7)"
      ],
      "metadata": {
        "id": "-LHgJlXnpxNk"
      },
      "execution_count": 12,
      "outputs": []
    },
    {
      "cell_type": "code",
      "source": [
        "# Un perceptron d'une seule couche avec 300 neuron\n",
        "import time\n",
        "start_time = time.time()\n",
        "clf1=MLPClassifier(hidden_layer_sizes=(300,)).fit(Xtrain,ytrain)\n",
        "end_time = time.time()\n",
        "print(\"temps ecoule = \"+str(end_time - start_time))\n",
        "print(\"Modele 1\",clf1.score(Xtest,ytest))"
      ],
      "metadata": {
        "id": "FzY_H3tWpyFB",
        "colab": {
          "base_uri": "https://localhost:8080/"
        },
        "outputId": "63c631f5-8e85-42ed-f069-328e3e154cee"
      },
      "execution_count": 6,
      "outputs": [
        {
          "output_type": "stream",
          "name": "stdout",
          "text": [
            "temps ecoule = 0.1552121639251709\n",
            "Modele 1 0.9734513274336283\n"
          ]
        },
        {
          "output_type": "stream",
          "name": "stderr",
          "text": [
            "/usr/local/lib/python3.7/dist-packages/sklearn/neural_network/_multilayer_perceptron.py:696: ConvergenceWarning: Stochastic Optimizer: Maximum iterations (200) reached and the optimization hasn't converged yet.\n",
            "  ConvergenceWarning,\n"
          ]
        }
      ]
    },
    {
      "cell_type": "code",
      "source": [
        "# Un perceptron de deux couche \n",
        "start_time = time.time()\n",
        "clf2=MLPClassifier(hidden_layer_sizes=(300,150)).fit(Xtrain,ytrain)\n",
        "end_time = time.time()\n",
        "print(\"temps ecoule = \"+str(end_time - start_time))\n",
        "print(\"Modele 2\",clf2.score(Xtest,ytest))"
      ],
      "metadata": {
        "colab": {
          "base_uri": "https://localhost:8080/"
        },
        "id": "h-IpLrjetoB9",
        "outputId": "a4e1beb3-2439-4d40-de26-9aa1f04d429d"
      },
      "execution_count": 7,
      "outputs": [
        {
          "output_type": "stream",
          "name": "stdout",
          "text": [
            "temps ecoule = 0.6674497127532959\n",
            "Modele 2 0.9646017699115044\n"
          ]
        },
        {
          "output_type": "stream",
          "name": "stderr",
          "text": [
            "/usr/local/lib/python3.7/dist-packages/sklearn/neural_network/_multilayer_perceptron.py:696: ConvergenceWarning: Stochastic Optimizer: Maximum iterations (200) reached and the optimization hasn't converged yet.\n",
            "  ConvergenceWarning,\n"
          ]
        }
      ]
    },
    {
      "cell_type": "code",
      "source": [
        "# Un perceptron de trois couche\n",
        "start_time = time.time()\n",
        "clf3=MLPClassifier(hidden_layer_sizes=(300,150,100)).fit(Xtrain,ytrain)\n",
        "end_time = time.time()\n",
        "print(\"temps ecoule = \"+str(end_time - start_time))\n",
        "print(\"Modele 3\",clf3.score(Xtest,ytest))"
      ],
      "metadata": {
        "colab": {
          "base_uri": "https://localhost:8080/"
        },
        "id": "ogX3hbdvt6EP",
        "outputId": "8d6500ae-f826-426d-e4bc-a03cde31dd89"
      },
      "execution_count": 15,
      "outputs": [
        {
          "output_type": "stream",
          "name": "stdout",
          "text": [
            "temps ecoule = 0.7700436115264893\n",
            "Modele 3 0.9646017699115044\n"
          ]
        }
      ]
    },
    {
      "cell_type": "code",
      "source": [
        "# Un perceptron de 4 couche \n",
        "start_time = time.time()\n",
        "clf4=MLPClassifier(hidden_layer_sizes=(300,150,100,50)).fit(Xtrain,ytrain)\n",
        "end_time = time.time()\n",
        "print(\"temps ecoule = \"+str(end_time - start_time))\n",
        "print(\"Modele 4\",clf4.score(Xtest,ytest))"
      ],
      "metadata": {
        "id": "hWi8BLWVuGGm",
        "colab": {
          "base_uri": "https://localhost:8080/"
        },
        "outputId": "2f891abb-dd9f-4e21-cfc9-b2ac1b8fea63"
      },
      "execution_count": 16,
      "outputs": [
        {
          "output_type": "stream",
          "name": "stdout",
          "text": [
            "temps ecoule = 0.45243024826049805\n",
            "Modele 4 0.9734513274336283\n"
          ]
        }
      ]
    },
    {
      "cell_type": "code",
      "source": [
        "# Un perceptron de cinq couche\n",
        "import time\n",
        "start_time = time.time()\n",
        "clf5=MLPClassifier(hidden_layer_sizes=(300,150,100,50,10)).fit(Xtrain,ytrain)\n",
        "end_time = time.time()\n",
        "print(\"temps ecoule = \"+str(end_time - start_time))\n",
        "print(\"Modele 5\",clf5.score(Xtest,ytest))\n"
      ],
      "metadata": {
        "colab": {
          "base_uri": "https://localhost:8080/"
        },
        "id": "2qrZSg8Jqgs9",
        "outputId": "dd830e9d-08ee-4ffb-ce4d-0b0cce6bec56"
      },
      "execution_count": 17,
      "outputs": [
        {
          "output_type": "stream",
          "name": "stdout",
          "text": [
            "temps ecoule = 0.4639136791229248\n",
            "Modele 5 0.9734513274336283\n"
          ]
        }
      ]
    },
    {
      "cell_type": "code",
      "source": [
        "print(\"Modele 1\",clf1.score(Xtest,ytest))\n",
        "print(\"Modele 2\",clf2.score(Xtest,ytest))\n",
        "print(\"Modele 3\",clf3.score(Xtest,ytest))\n",
        "print(\"Modele 4\",clf4.score(Xtest,ytest))\n",
        "print(\"Modele 5\",clf5.score(Xtest,ytest))"
      ],
      "metadata": {
        "colab": {
          "base_uri": "https://localhost:8080/"
        },
        "id": "09juCbAwsfZm",
        "outputId": "f4f59bf8-4d3d-4918-b07f-8e4f94353676"
      },
      "execution_count": 18,
      "outputs": [
        {
          "output_type": "stream",
          "name": "stdout",
          "text": [
            "Modele 1 0.9557522123893806\n",
            "Modele 2 0.9646017699115044\n",
            "Modele 3 0.9646017699115044\n",
            "Modele 4 0.9734513274336283\n",
            "Modele 5 0.9734513274336283\n"
          ]
        }
      ]
    },
    {
      "cell_type": "code",
      "source": [
        "from sklearn import svm\n",
        "clsvm = svm.SVC(kernel=\"poly\").fit(Xtrain,ytrain)\n",
        "clsvm.score(Xtest,ytest)"
      ],
      "metadata": {
        "colab": {
          "base_uri": "https://localhost:8080/"
        },
        "id": "NSwaEUQwtH9M",
        "outputId": "0ba51590-2e87-4bfc-a16a-39737f98b255"
      },
      "execution_count": 13,
      "outputs": [
        {
          "output_type": "execute_result",
          "data": {
            "text/plain": [
              "0.9777777777777777"
            ]
          },
          "metadata": {},
          "execution_count": 13
        }
      ]
    },
    {
      "cell_type": "markdown",
      "source": [
        "# Déterminez, pour chaque attribut d’entrées, sa valeur moyenne et l’écart-type de sa distribution"
      ],
      "metadata": {
        "id": "dXO-3G5MyaX6"
      }
    },
    {
      "cell_type": "code",
      "source": [
        "import pandas as pd"
      ],
      "metadata": {
        "id": "2F4RrUXo0zR5"
      },
      "execution_count": 44,
      "outputs": []
    },
    {
      "cell_type": "code",
      "source": [
        "Data=pd.DataFrame(data=X)\n",
        "Data=Data.rename(columns={0:\"SepalLengthCm\",1:\"SepalWidthCm\",2:\"PetalLengthCm\",3:\"PetalWidthCm\"})"
      ],
      "metadata": {
        "id": "a9X6iK5TtyZw"
      },
      "execution_count": 45,
      "outputs": []
    },
    {
      "cell_type": "code",
      "source": [
        "Data"
      ],
      "metadata": {
        "colab": {
          "base_uri": "https://localhost:8080/",
          "height": 423
        },
        "id": "CyxO8Xi10qFR",
        "outputId": "5efe2bab-4cc6-4351-e0f8-f706f06515b8"
      },
      "execution_count": 46,
      "outputs": [
        {
          "output_type": "execute_result",
          "data": {
            "text/plain": [
              "     SepalLengthCm  SepalWidthCm  PetalLengthCm  PetalWidthCm\n",
              "0              5.1           3.5            1.4           0.2\n",
              "1              4.9           3.0            1.4           0.2\n",
              "2              4.7           3.2            1.3           0.2\n",
              "3              4.6           3.1            1.5           0.2\n",
              "4              5.0           3.6            1.4           0.2\n",
              "..             ...           ...            ...           ...\n",
              "145            6.7           3.0            5.2           2.3\n",
              "146            6.3           2.5            5.0           1.9\n",
              "147            6.5           3.0            5.2           2.0\n",
              "148            6.2           3.4            5.4           2.3\n",
              "149            5.9           3.0            5.1           1.8\n",
              "\n",
              "[150 rows x 4 columns]"
            ],
            "text/html": [
              "\n",
              "  <div id=\"df-39718adc-5c83-4a9f-9438-d46f4252517c\">\n",
              "    <div class=\"colab-df-container\">\n",
              "      <div>\n",
              "<style scoped>\n",
              "    .dataframe tbody tr th:only-of-type {\n",
              "        vertical-align: middle;\n",
              "    }\n",
              "\n",
              "    .dataframe tbody tr th {\n",
              "        vertical-align: top;\n",
              "    }\n",
              "\n",
              "    .dataframe thead th {\n",
              "        text-align: right;\n",
              "    }\n",
              "</style>\n",
              "<table border=\"1\" class=\"dataframe\">\n",
              "  <thead>\n",
              "    <tr style=\"text-align: right;\">\n",
              "      <th></th>\n",
              "      <th>SepalLengthCm</th>\n",
              "      <th>SepalWidthCm</th>\n",
              "      <th>PetalLengthCm</th>\n",
              "      <th>PetalWidthCm</th>\n",
              "    </tr>\n",
              "  </thead>\n",
              "  <tbody>\n",
              "    <tr>\n",
              "      <th>0</th>\n",
              "      <td>5.1</td>\n",
              "      <td>3.5</td>\n",
              "      <td>1.4</td>\n",
              "      <td>0.2</td>\n",
              "    </tr>\n",
              "    <tr>\n",
              "      <th>1</th>\n",
              "      <td>4.9</td>\n",
              "      <td>3.0</td>\n",
              "      <td>1.4</td>\n",
              "      <td>0.2</td>\n",
              "    </tr>\n",
              "    <tr>\n",
              "      <th>2</th>\n",
              "      <td>4.7</td>\n",
              "      <td>3.2</td>\n",
              "      <td>1.3</td>\n",
              "      <td>0.2</td>\n",
              "    </tr>\n",
              "    <tr>\n",
              "      <th>3</th>\n",
              "      <td>4.6</td>\n",
              "      <td>3.1</td>\n",
              "      <td>1.5</td>\n",
              "      <td>0.2</td>\n",
              "    </tr>\n",
              "    <tr>\n",
              "      <th>4</th>\n",
              "      <td>5.0</td>\n",
              "      <td>3.6</td>\n",
              "      <td>1.4</td>\n",
              "      <td>0.2</td>\n",
              "    </tr>\n",
              "    <tr>\n",
              "      <th>...</th>\n",
              "      <td>...</td>\n",
              "      <td>...</td>\n",
              "      <td>...</td>\n",
              "      <td>...</td>\n",
              "    </tr>\n",
              "    <tr>\n",
              "      <th>145</th>\n",
              "      <td>6.7</td>\n",
              "      <td>3.0</td>\n",
              "      <td>5.2</td>\n",
              "      <td>2.3</td>\n",
              "    </tr>\n",
              "    <tr>\n",
              "      <th>146</th>\n",
              "      <td>6.3</td>\n",
              "      <td>2.5</td>\n",
              "      <td>5.0</td>\n",
              "      <td>1.9</td>\n",
              "    </tr>\n",
              "    <tr>\n",
              "      <th>147</th>\n",
              "      <td>6.5</td>\n",
              "      <td>3.0</td>\n",
              "      <td>5.2</td>\n",
              "      <td>2.0</td>\n",
              "    </tr>\n",
              "    <tr>\n",
              "      <th>148</th>\n",
              "      <td>6.2</td>\n",
              "      <td>3.4</td>\n",
              "      <td>5.4</td>\n",
              "      <td>2.3</td>\n",
              "    </tr>\n",
              "    <tr>\n",
              "      <th>149</th>\n",
              "      <td>5.9</td>\n",
              "      <td>3.0</td>\n",
              "      <td>5.1</td>\n",
              "      <td>1.8</td>\n",
              "    </tr>\n",
              "  </tbody>\n",
              "</table>\n",
              "<p>150 rows × 4 columns</p>\n",
              "</div>\n",
              "      <button class=\"colab-df-convert\" onclick=\"convertToInteractive('df-39718adc-5c83-4a9f-9438-d46f4252517c')\"\n",
              "              title=\"Convert this dataframe to an interactive table.\"\n",
              "              style=\"display:none;\">\n",
              "        \n",
              "  <svg xmlns=\"http://www.w3.org/2000/svg\" height=\"24px\"viewBox=\"0 0 24 24\"\n",
              "       width=\"24px\">\n",
              "    <path d=\"M0 0h24v24H0V0z\" fill=\"none\"/>\n",
              "    <path d=\"M18.56 5.44l.94 2.06.94-2.06 2.06-.94-2.06-.94-.94-2.06-.94 2.06-2.06.94zm-11 1L8.5 8.5l.94-2.06 2.06-.94-2.06-.94L8.5 2.5l-.94 2.06-2.06.94zm10 10l.94 2.06.94-2.06 2.06-.94-2.06-.94-.94-2.06-.94 2.06-2.06.94z\"/><path d=\"M17.41 7.96l-1.37-1.37c-.4-.4-.92-.59-1.43-.59-.52 0-1.04.2-1.43.59L10.3 9.45l-7.72 7.72c-.78.78-.78 2.05 0 2.83L4 21.41c.39.39.9.59 1.41.59.51 0 1.02-.2 1.41-.59l7.78-7.78 2.81-2.81c.8-.78.8-2.07 0-2.86zM5.41 20L4 18.59l7.72-7.72 1.47 1.35L5.41 20z\"/>\n",
              "  </svg>\n",
              "      </button>\n",
              "      \n",
              "  <style>\n",
              "    .colab-df-container {\n",
              "      display:flex;\n",
              "      flex-wrap:wrap;\n",
              "      gap: 12px;\n",
              "    }\n",
              "\n",
              "    .colab-df-convert {\n",
              "      background-color: #E8F0FE;\n",
              "      border: none;\n",
              "      border-radius: 50%;\n",
              "      cursor: pointer;\n",
              "      display: none;\n",
              "      fill: #1967D2;\n",
              "      height: 32px;\n",
              "      padding: 0 0 0 0;\n",
              "      width: 32px;\n",
              "    }\n",
              "\n",
              "    .colab-df-convert:hover {\n",
              "      background-color: #E2EBFA;\n",
              "      box-shadow: 0px 1px 2px rgba(60, 64, 67, 0.3), 0px 1px 3px 1px rgba(60, 64, 67, 0.15);\n",
              "      fill: #174EA6;\n",
              "    }\n",
              "\n",
              "    [theme=dark] .colab-df-convert {\n",
              "      background-color: #3B4455;\n",
              "      fill: #D2E3FC;\n",
              "    }\n",
              "\n",
              "    [theme=dark] .colab-df-convert:hover {\n",
              "      background-color: #434B5C;\n",
              "      box-shadow: 0px 1px 3px 1px rgba(0, 0, 0, 0.15);\n",
              "      filter: drop-shadow(0px 1px 2px rgba(0, 0, 0, 0.3));\n",
              "      fill: #FFFFFF;\n",
              "    }\n",
              "  </style>\n",
              "\n",
              "      <script>\n",
              "        const buttonEl =\n",
              "          document.querySelector('#df-39718adc-5c83-4a9f-9438-d46f4252517c button.colab-df-convert');\n",
              "        buttonEl.style.display =\n",
              "          google.colab.kernel.accessAllowed ? 'block' : 'none';\n",
              "\n",
              "        async function convertToInteractive(key) {\n",
              "          const element = document.querySelector('#df-39718adc-5c83-4a9f-9438-d46f4252517c');\n",
              "          const dataTable =\n",
              "            await google.colab.kernel.invokeFunction('convertToInteractive',\n",
              "                                                     [key], {});\n",
              "          if (!dataTable) return;\n",
              "\n",
              "          const docLinkHtml = 'Like what you see? Visit the ' +\n",
              "            '<a target=\"_blank\" href=https://colab.research.google.com/notebooks/data_table.ipynb>data table notebook</a>'\n",
              "            + ' to learn more about interactive tables.';\n",
              "          element.innerHTML = '';\n",
              "          dataTable['output_type'] = 'display_data';\n",
              "          await google.colab.output.renderOutput(dataTable, element);\n",
              "          const docLink = document.createElement('div');\n",
              "          docLink.innerHTML = docLinkHtml;\n",
              "          element.appendChild(docLink);\n",
              "        }\n",
              "      </script>\n",
              "    </div>\n",
              "  </div>\n",
              "  "
            ]
          },
          "metadata": {},
          "execution_count": 46
        }
      ]
    },
    {
      "cell_type": "code",
      "source": [
        "Data.describe()"
      ],
      "metadata": {
        "colab": {
          "base_uri": "https://localhost:8080/",
          "height": 300
        },
        "id": "UhaFhHve08So",
        "outputId": "14687959-a962-4c0b-87f7-2dc8f16bcc70"
      },
      "execution_count": 47,
      "outputs": [
        {
          "output_type": "execute_result",
          "data": {
            "text/plain": [
              "       SepalLengthCm  SepalWidthCm  PetalLengthCm  PetalWidthCm\n",
              "count     150.000000    150.000000     150.000000    150.000000\n",
              "mean        5.843333      3.057333       3.758000      1.199333\n",
              "std         0.828066      0.435866       1.765298      0.762238\n",
              "min         4.300000      2.000000       1.000000      0.100000\n",
              "25%         5.100000      2.800000       1.600000      0.300000\n",
              "50%         5.800000      3.000000       4.350000      1.300000\n",
              "75%         6.400000      3.300000       5.100000      1.800000\n",
              "max         7.900000      4.400000       6.900000      2.500000"
            ],
            "text/html": [
              "\n",
              "  <div id=\"df-c56d57b6-3df3-4a42-9183-e13391c65bf2\">\n",
              "    <div class=\"colab-df-container\">\n",
              "      <div>\n",
              "<style scoped>\n",
              "    .dataframe tbody tr th:only-of-type {\n",
              "        vertical-align: middle;\n",
              "    }\n",
              "\n",
              "    .dataframe tbody tr th {\n",
              "        vertical-align: top;\n",
              "    }\n",
              "\n",
              "    .dataframe thead th {\n",
              "        text-align: right;\n",
              "    }\n",
              "</style>\n",
              "<table border=\"1\" class=\"dataframe\">\n",
              "  <thead>\n",
              "    <tr style=\"text-align: right;\">\n",
              "      <th></th>\n",
              "      <th>SepalLengthCm</th>\n",
              "      <th>SepalWidthCm</th>\n",
              "      <th>PetalLengthCm</th>\n",
              "      <th>PetalWidthCm</th>\n",
              "    </tr>\n",
              "  </thead>\n",
              "  <tbody>\n",
              "    <tr>\n",
              "      <th>count</th>\n",
              "      <td>150.000000</td>\n",
              "      <td>150.000000</td>\n",
              "      <td>150.000000</td>\n",
              "      <td>150.000000</td>\n",
              "    </tr>\n",
              "    <tr>\n",
              "      <th>mean</th>\n",
              "      <td>5.843333</td>\n",
              "      <td>3.057333</td>\n",
              "      <td>3.758000</td>\n",
              "      <td>1.199333</td>\n",
              "    </tr>\n",
              "    <tr>\n",
              "      <th>std</th>\n",
              "      <td>0.828066</td>\n",
              "      <td>0.435866</td>\n",
              "      <td>1.765298</td>\n",
              "      <td>0.762238</td>\n",
              "    </tr>\n",
              "    <tr>\n",
              "      <th>min</th>\n",
              "      <td>4.300000</td>\n",
              "      <td>2.000000</td>\n",
              "      <td>1.000000</td>\n",
              "      <td>0.100000</td>\n",
              "    </tr>\n",
              "    <tr>\n",
              "      <th>25%</th>\n",
              "      <td>5.100000</td>\n",
              "      <td>2.800000</td>\n",
              "      <td>1.600000</td>\n",
              "      <td>0.300000</td>\n",
              "    </tr>\n",
              "    <tr>\n",
              "      <th>50%</th>\n",
              "      <td>5.800000</td>\n",
              "      <td>3.000000</td>\n",
              "      <td>4.350000</td>\n",
              "      <td>1.300000</td>\n",
              "    </tr>\n",
              "    <tr>\n",
              "      <th>75%</th>\n",
              "      <td>6.400000</td>\n",
              "      <td>3.300000</td>\n",
              "      <td>5.100000</td>\n",
              "      <td>1.800000</td>\n",
              "    </tr>\n",
              "    <tr>\n",
              "      <th>max</th>\n",
              "      <td>7.900000</td>\n",
              "      <td>4.400000</td>\n",
              "      <td>6.900000</td>\n",
              "      <td>2.500000</td>\n",
              "    </tr>\n",
              "  </tbody>\n",
              "</table>\n",
              "</div>\n",
              "      <button class=\"colab-df-convert\" onclick=\"convertToInteractive('df-c56d57b6-3df3-4a42-9183-e13391c65bf2')\"\n",
              "              title=\"Convert this dataframe to an interactive table.\"\n",
              "              style=\"display:none;\">\n",
              "        \n",
              "  <svg xmlns=\"http://www.w3.org/2000/svg\" height=\"24px\"viewBox=\"0 0 24 24\"\n",
              "       width=\"24px\">\n",
              "    <path d=\"M0 0h24v24H0V0z\" fill=\"none\"/>\n",
              "    <path d=\"M18.56 5.44l.94 2.06.94-2.06 2.06-.94-2.06-.94-.94-2.06-.94 2.06-2.06.94zm-11 1L8.5 8.5l.94-2.06 2.06-.94-2.06-.94L8.5 2.5l-.94 2.06-2.06.94zm10 10l.94 2.06.94-2.06 2.06-.94-2.06-.94-.94-2.06-.94 2.06-2.06.94z\"/><path d=\"M17.41 7.96l-1.37-1.37c-.4-.4-.92-.59-1.43-.59-.52 0-1.04.2-1.43.59L10.3 9.45l-7.72 7.72c-.78.78-.78 2.05 0 2.83L4 21.41c.39.39.9.59 1.41.59.51 0 1.02-.2 1.41-.59l7.78-7.78 2.81-2.81c.8-.78.8-2.07 0-2.86zM5.41 20L4 18.59l7.72-7.72 1.47 1.35L5.41 20z\"/>\n",
              "  </svg>\n",
              "      </button>\n",
              "      \n",
              "  <style>\n",
              "    .colab-df-container {\n",
              "      display:flex;\n",
              "      flex-wrap:wrap;\n",
              "      gap: 12px;\n",
              "    }\n",
              "\n",
              "    .colab-df-convert {\n",
              "      background-color: #E8F0FE;\n",
              "      border: none;\n",
              "      border-radius: 50%;\n",
              "      cursor: pointer;\n",
              "      display: none;\n",
              "      fill: #1967D2;\n",
              "      height: 32px;\n",
              "      padding: 0 0 0 0;\n",
              "      width: 32px;\n",
              "    }\n",
              "\n",
              "    .colab-df-convert:hover {\n",
              "      background-color: #E2EBFA;\n",
              "      box-shadow: 0px 1px 2px rgba(60, 64, 67, 0.3), 0px 1px 3px 1px rgba(60, 64, 67, 0.15);\n",
              "      fill: #174EA6;\n",
              "    }\n",
              "\n",
              "    [theme=dark] .colab-df-convert {\n",
              "      background-color: #3B4455;\n",
              "      fill: #D2E3FC;\n",
              "    }\n",
              "\n",
              "    [theme=dark] .colab-df-convert:hover {\n",
              "      background-color: #434B5C;\n",
              "      box-shadow: 0px 1px 3px 1px rgba(0, 0, 0, 0.15);\n",
              "      filter: drop-shadow(0px 1px 2px rgba(0, 0, 0, 0.3));\n",
              "      fill: #FFFFFF;\n",
              "    }\n",
              "  </style>\n",
              "\n",
              "      <script>\n",
              "        const buttonEl =\n",
              "          document.querySelector('#df-c56d57b6-3df3-4a42-9183-e13391c65bf2 button.colab-df-convert');\n",
              "        buttonEl.style.display =\n",
              "          google.colab.kernel.accessAllowed ? 'block' : 'none';\n",
              "\n",
              "        async function convertToInteractive(key) {\n",
              "          const element = document.querySelector('#df-c56d57b6-3df3-4a42-9183-e13391c65bf2');\n",
              "          const dataTable =\n",
              "            await google.colab.kernel.invokeFunction('convertToInteractive',\n",
              "                                                     [key], {});\n",
              "          if (!dataTable) return;\n",
              "\n",
              "          const docLinkHtml = 'Like what you see? Visit the ' +\n",
              "            '<a target=\"_blank\" href=https://colab.research.google.com/notebooks/data_table.ipynb>data table notebook</a>'\n",
              "            + ' to learn more about interactive tables.';\n",
              "          element.innerHTML = '';\n",
              "          dataTable['output_type'] = 'display_data';\n",
              "          await google.colab.output.renderOutput(dataTable, element);\n",
              "          const docLink = document.createElement('div');\n",
              "          docLink.innerHTML = docLinkHtml;\n",
              "          element.appendChild(docLink);\n",
              "        }\n",
              "      </script>\n",
              "    </div>\n",
              "  </div>\n",
              "  "
            ]
          },
          "metadata": {},
          "execution_count": 47
        }
      ]
    },
    {
      "cell_type": "markdown",
      "source": [
        "# La normalisation des données de l'entrée"
      ],
      "metadata": {
        "id": "RMaWg9JJ6EHP"
      }
    },
    {
      "cell_type": "code",
      "source": [
        "from sklearn.preprocessing import StandardScaler\n",
        "scaler = StandardScaler()\n",
        "scaler.fit(Xtrain)\n",
        "Xtrain = scaler.transform(Xtrain)\n",
        "Xtest = scaler.transform(Xtest)"
      ],
      "metadata": {
        "id": "TClvjoNY6Zw3"
      },
      "execution_count": 22,
      "outputs": []
    },
    {
      "cell_type": "markdown",
      "source": [
        "# . Re-apprendre et tester les cinq modèles MLP et le SVM après avoir normalisé les données en entrées."
      ],
      "metadata": {
        "id": "EcfuWy8m7JQw"
      }
    },
    {
      "cell_type": "code",
      "source": [
        "import warnings\n",
        "warnings.filterwarnings('ignore')"
      ],
      "metadata": {
        "id": "n1N0rEKn0yIf"
      },
      "execution_count": 16,
      "outputs": []
    },
    {
      "cell_type": "code",
      "source": [
        "def mlp_couche_cachee(N):\n",
        "  start_time = time.time()\n",
        "  clf1=MLPClassifier(hidden_layer_sizes=N,solver=\"adam\").fit(Xtrain,ytrain)\n",
        "  end_time = time.time()\n",
        "  ypred1=clf1.predict(Xtest)\n",
        "  print(f\"nombre de couches cachées : {clf1.n_layers_ - 2}\")\n",
        "  print(\"temps de convergence = \"+str(end_time - start_time))\n",
        "  print(\"Nombre d'iterations = \", clf1.n_iter_)\n",
        "  print(\"accuracy est =\", clf1.score(Xtest, ytest))"
      ],
      "metadata": {
        "id": "vNUp9ZjS1-fl"
      },
      "execution_count": 21,
      "outputs": []
    },
    {
      "cell_type": "code",
      "source": [
        "mlp_couche_cachee((300))"
      ],
      "metadata": {
        "colab": {
          "base_uri": "https://localhost:8080/"
        },
        "id": "IX_Z-LaM0m25",
        "outputId": "42b682fe-a099-4c0e-9234-ede344fd863a"
      },
      "execution_count": 22,
      "outputs": [
        {
          "output_type": "stream",
          "name": "stdout",
          "text": [
            "nombre de couches cachées : 1\n",
            "temps de convergence = 0.21997809410095215\n",
            "Nombre d'iterations =  200\n",
            "accuracy est = 0.9777777777777777\n"
          ]
        }
      ]
    },
    {
      "cell_type": "code",
      "source": [
        "mlp_couche_cachee((150, 300))"
      ],
      "metadata": {
        "colab": {
          "base_uri": "https://localhost:8080/"
        },
        "id": "vqRXN3bV2p9B",
        "outputId": "8ddc40a6-7214-4abe-8401-bff260785256"
      },
      "execution_count": 23,
      "outputs": [
        {
          "output_type": "stream",
          "name": "stdout",
          "text": [
            "nombre de couches cachées : 2\n",
            "temps de convergence = 2.0008857250213623\n",
            "Nombre d'iterations =  200\n",
            "accuracy est = 0.9777777777777777\n"
          ]
        }
      ]
    },
    {
      "cell_type": "code",
      "source": [
        "mlp_couche_cachee((300, 150, 100))"
      ],
      "metadata": {
        "colab": {
          "base_uri": "https://localhost:8080/"
        },
        "id": "khdRvspl2xu1",
        "outputId": "4b5c2b06-536a-467a-cbf1-5adbb34e2d85"
      },
      "execution_count": 24,
      "outputs": [
        {
          "output_type": "stream",
          "name": "stdout",
          "text": [
            "nombre de couches cachées : 3\n",
            "temps de convergence = 1.2034900188446045\n",
            "Nombre d'iterations =  200\n",
            "accuracy est = 0.9777777777777777\n"
          ]
        }
      ]
    },
    {
      "cell_type": "code",
      "source": [
        "mlp_couche_cachee((300, 150, 100, 50))"
      ],
      "metadata": {
        "colab": {
          "base_uri": "https://localhost:8080/"
        },
        "id": "VSrC6JTs26Dm",
        "outputId": "b589f007-4be5-4f51-a4d2-5cd2e5c52462"
      },
      "execution_count": 25,
      "outputs": [
        {
          "output_type": "stream",
          "name": "stdout",
          "text": [
            "nombre de couches cachées : 4\n",
            "temps de convergence = 2.789517402648926\n",
            "Nombre d'iterations =  200\n",
            "accuracy est = 0.9555555555555556\n"
          ]
        }
      ]
    },
    {
      "cell_type": "code",
      "source": [
        "mlp_couche_cachee((300, 150, 100, 50, 10))"
      ],
      "metadata": {
        "colab": {
          "base_uri": "https://localhost:8080/"
        },
        "id": "x9DmFLz426Y8",
        "outputId": "ce193140-9248-4bea-95a0-ebc9f51538dd"
      },
      "execution_count": 26,
      "outputs": [
        {
          "output_type": "stream",
          "name": "stdout",
          "text": [
            "nombre de couches cachées : 5\n",
            "temps de convergence = 2.2693278789520264\n",
            "Nombre d'iterations =  200\n",
            "accuracy est = 0.9555555555555556\n"
          ]
        }
      ]
    },
    {
      "cell_type": "code",
      "source": [
        "warnings.filterwarnings('ignore')\n",
        "def mlp_couche_cache(C):\n",
        "  solvers=[\"adam\",\"lbfgs\",\"sgd\"]\n",
        "  for solver in solvers:\n",
        "          start_time = time.time()\n",
        "          clf1=MLPClassifier(hidden_layer_sizes=C,solver=solver).fit(Xtrain,ytrain)\n",
        "          end_time = time.time()\n",
        "          ypred1=clf1.predict(Xtest)\n",
        "          print(f\"nombre de couches cachées : {clf1.n_layers_ - 2} || Le Solver utilisé est : {solver}\")\n",
        "          print(\"temps de convergence = \"+str(end_time - start_time))\n",
        "          print(\"Nombre d'iterations = \", clf1.n_iter_)\n",
        "          print(classification_report(ytest, ypred1))\n",
        "          plt.show()"
      ],
      "metadata": {
        "id": "vgYAjC4M55I8"
      },
      "execution_count": 29,
      "outputs": []
    },
    {
      "cell_type": "code",
      "source": [
        "mlp_couche_cache((300))"
      ],
      "metadata": {
        "colab": {
          "base_uri": "https://localhost:8080/"
        },
        "id": "cyEnC85n5_lN",
        "outputId": "c8b23a18-8db2-430e-dd2a-47814d61402e"
      },
      "execution_count": 30,
      "outputs": [
        {
          "output_type": "stream",
          "name": "stdout",
          "text": [
            "nombre de couches cachées : 1 || Le Solver utilisé est : adam\n",
            "temps de convergence = 0.2554628849029541\n",
            "Nombre d'iterations =  200\n",
            "              precision    recall  f1-score   support\n",
            "\n",
            "           0       1.00      1.00      1.00        10\n",
            "           1       0.95      1.00      0.97        18\n",
            "           2       1.00      0.94      0.97        17\n",
            "\n",
            "    accuracy                           0.98        45\n",
            "   macro avg       0.98      0.98      0.98        45\n",
            "weighted avg       0.98      0.98      0.98        45\n",
            "\n",
            "nombre de couches cachées : 1 || Le Solver utilisé est : lbfgs\n",
            "temps de convergence = 0.26364850997924805\n",
            "Nombre d'iterations =  94\n",
            "              precision    recall  f1-score   support\n",
            "\n",
            "           0       0.83      1.00      0.91        10\n",
            "           1       0.88      0.83      0.86        18\n",
            "           2       0.94      0.88      0.91        17\n",
            "\n",
            "    accuracy                           0.89        45\n",
            "   macro avg       0.88      0.91      0.89        45\n",
            "weighted avg       0.89      0.89      0.89        45\n",
            "\n",
            "nombre de couches cachées : 1 || Le Solver utilisé est : sgd\n",
            "temps de convergence = 0.22458887100219727\n",
            "Nombre d'iterations =  200\n",
            "              precision    recall  f1-score   support\n",
            "\n",
            "           0       1.00      1.00      1.00        10\n",
            "           1       1.00      0.94      0.97        18\n",
            "           2       0.94      1.00      0.97        17\n",
            "\n",
            "    accuracy                           0.98        45\n",
            "   macro avg       0.98      0.98      0.98        45\n",
            "weighted avg       0.98      0.98      0.98        45\n",
            "\n"
          ]
        }
      ]
    },
    {
      "cell_type": "code",
      "source": [
        "mlp_couche_cache((150,300))"
      ],
      "metadata": {
        "colab": {
          "base_uri": "https://localhost:8080/"
        },
        "id": "TRORdZkp8785",
        "outputId": "45282e0a-187f-484c-be56-7e2ab5f271fc"
      },
      "execution_count": 31,
      "outputs": [
        {
          "output_type": "stream",
          "name": "stdout",
          "text": [
            "nombre de couches cachées : 2 || Le Solver utilisé est : adam\n",
            "temps de convergence = 2.1936094760894775\n",
            "Nombre d'iterations =  200\n",
            "              precision    recall  f1-score   support\n",
            "\n",
            "           0       1.00      1.00      1.00        10\n",
            "           1       0.95      1.00      0.97        18\n",
            "           2       1.00      0.94      0.97        17\n",
            "\n",
            "    accuracy                           0.98        45\n",
            "   macro avg       0.98      0.98      0.98        45\n",
            "weighted avg       0.98      0.98      0.98        45\n",
            "\n",
            "nombre de couches cachées : 2 || Le Solver utilisé est : lbfgs\n",
            "temps de convergence = 2.2704296112060547\n",
            "Nombre d'iterations =  139\n",
            "              precision    recall  f1-score   support\n",
            "\n",
            "           0       1.00      1.00      1.00        10\n",
            "           1       0.89      0.94      0.92        18\n",
            "           2       0.94      0.88      0.91        17\n",
            "\n",
            "    accuracy                           0.93        45\n",
            "   macro avg       0.94      0.94      0.94        45\n",
            "weighted avg       0.93      0.93      0.93        45\n",
            "\n",
            "nombre de couches cachées : 2 || Le Solver utilisé est : sgd\n",
            "temps de convergence = 0.8662295341491699\n",
            "Nombre d'iterations =  200\n",
            "              precision    recall  f1-score   support\n",
            "\n",
            "           0       1.00      1.00      1.00        10\n",
            "           1       1.00      0.89      0.94        18\n",
            "           2       0.89      1.00      0.94        17\n",
            "\n",
            "    accuracy                           0.96        45\n",
            "   macro avg       0.96      0.96      0.96        45\n",
            "weighted avg       0.96      0.96      0.96        45\n",
            "\n"
          ]
        }
      ]
    },
    {
      "cell_type": "code",
      "source": [
        "mlp_couche_cache((300,150,100))"
      ],
      "metadata": {
        "colab": {
          "base_uri": "https://localhost:8080/"
        },
        "id": "JBYgeJZ59Lii",
        "outputId": "661c6d82-fd66-4f01-97ec-1293249901b0"
      },
      "execution_count": 32,
      "outputs": [
        {
          "output_type": "stream",
          "name": "stdout",
          "text": [
            "nombre de couches cachées : 3 || Le Solver utilisé est : adam\n",
            "temps de convergence = 1.816706895828247\n",
            "Nombre d'iterations =  200\n",
            "              precision    recall  f1-score   support\n",
            "\n",
            "           0       1.00      1.00      1.00        10\n",
            "           1       0.90      1.00      0.95        18\n",
            "           2       1.00      0.88      0.94        17\n",
            "\n",
            "    accuracy                           0.96        45\n",
            "   macro avg       0.97      0.96      0.96        45\n",
            "weighted avg       0.96      0.96      0.96        45\n",
            "\n",
            "nombre de couches cachées : 3 || Le Solver utilisé est : lbfgs\n",
            "temps de convergence = 4.576868534088135\n",
            "Nombre d'iterations =  187\n",
            "              precision    recall  f1-score   support\n",
            "\n",
            "           0       1.00      1.00      1.00        10\n",
            "           1       0.85      0.94      0.89        18\n",
            "           2       0.93      0.82      0.87        17\n",
            "\n",
            "    accuracy                           0.91        45\n",
            "   macro avg       0.93      0.92      0.92        45\n",
            "weighted avg       0.91      0.91      0.91        45\n",
            "\n",
            "nombre de couches cachées : 3 || Le Solver utilisé est : sgd\n",
            "temps de convergence = 1.0831172466278076\n",
            "Nombre d'iterations =  200\n",
            "              precision    recall  f1-score   support\n",
            "\n",
            "           0       1.00      1.00      1.00        10\n",
            "           1       1.00      0.89      0.94        18\n",
            "           2       0.89      1.00      0.94        17\n",
            "\n",
            "    accuracy                           0.96        45\n",
            "   macro avg       0.96      0.96      0.96        45\n",
            "weighted avg       0.96      0.96      0.96        45\n",
            "\n"
          ]
        }
      ]
    },
    {
      "cell_type": "code",
      "source": [
        "mlp_couche_cache((300,150,100,50))"
      ],
      "metadata": {
        "colab": {
          "base_uri": "https://localhost:8080/"
        },
        "id": "qZGyebHb9qz6",
        "outputId": "18ce895b-9a78-435f-daab-d4b9024272fb"
      },
      "execution_count": 33,
      "outputs": [
        {
          "output_type": "stream",
          "name": "stdout",
          "text": [
            "nombre de couches cachées : 4 || Le Solver utilisé est : adam\n",
            "temps de convergence = 1.3225719928741455\n",
            "Nombre d'iterations =  200\n",
            "              precision    recall  f1-score   support\n",
            "\n",
            "           0       1.00      1.00      1.00        10\n",
            "           1       0.90      1.00      0.95        18\n",
            "           2       1.00      0.88      0.94        17\n",
            "\n",
            "    accuracy                           0.96        45\n",
            "   macro avg       0.97      0.96      0.96        45\n",
            "weighted avg       0.96      0.96      0.96        45\n",
            "\n",
            "nombre de couches cachées : 4 || Le Solver utilisé est : lbfgs\n",
            "temps de convergence = 3.99462890625\n",
            "Nombre d'iterations =  200\n",
            "              precision    recall  f1-score   support\n",
            "\n",
            "           0       1.00      1.00      1.00        10\n",
            "           1       0.85      0.94      0.89        18\n",
            "           2       0.93      0.82      0.87        17\n",
            "\n",
            "    accuracy                           0.91        45\n",
            "   macro avg       0.93      0.92      0.92        45\n",
            "weighted avg       0.91      0.91      0.91        45\n",
            "\n",
            "nombre de couches cachées : 4 || Le Solver utilisé est : sgd\n",
            "temps de convergence = 1.2921760082244873\n",
            "Nombre d'iterations =  200\n",
            "              precision    recall  f1-score   support\n",
            "\n",
            "           0       1.00      1.00      1.00        10\n",
            "           1       1.00      0.94      0.97        18\n",
            "           2       0.94      1.00      0.97        17\n",
            "\n",
            "    accuracy                           0.98        45\n",
            "   macro avg       0.98      0.98      0.98        45\n",
            "weighted avg       0.98      0.98      0.98        45\n",
            "\n"
          ]
        }
      ]
    },
    {
      "cell_type": "code",
      "source": [
        "mlp_couche_cache((300,150,100,50,10))"
      ],
      "metadata": {
        "colab": {
          "base_uri": "https://localhost:8080/"
        },
        "id": "79GFEZJA-DG1",
        "outputId": "e2856e08-8379-4252-fc0d-34ff2e789458"
      },
      "execution_count": 34,
      "outputs": [
        {
          "output_type": "stream",
          "name": "stdout",
          "text": [
            "nombre de couches cachées : 5 || Le Solver utilisé est : adam\n",
            "temps de convergence = 2.797088384628296\n",
            "Nombre d'iterations =  200\n",
            "              precision    recall  f1-score   support\n",
            "\n",
            "           0       1.00      1.00      1.00        10\n",
            "           1       0.95      1.00      0.97        18\n",
            "           2       1.00      0.94      0.97        17\n",
            "\n",
            "    accuracy                           0.98        45\n",
            "   macro avg       0.98      0.98      0.98        45\n",
            "weighted avg       0.98      0.98      0.98        45\n",
            "\n",
            "nombre de couches cachées : 5 || Le Solver utilisé est : lbfgs\n",
            "temps de convergence = 3.027545690536499\n",
            "Nombre d'iterations =  136\n",
            "              precision    recall  f1-score   support\n",
            "\n",
            "           0       1.00      1.00      1.00        10\n",
            "           1       0.95      1.00      0.97        18\n",
            "           2       1.00      0.94      0.97        17\n",
            "\n",
            "    accuracy                           0.98        45\n",
            "   macro avg       0.98      0.98      0.98        45\n",
            "weighted avg       0.98      0.98      0.98        45\n",
            "\n",
            "nombre de couches cachées : 5 || Le Solver utilisé est : sgd\n",
            "temps de convergence = 1.2413451671600342\n",
            "Nombre d'iterations =  200\n",
            "              precision    recall  f1-score   support\n",
            "\n",
            "           0       1.00      1.00      1.00        10\n",
            "           1       1.00      0.94      0.97        18\n",
            "           2       0.94      1.00      0.97        17\n",
            "\n",
            "    accuracy                           0.98        45\n",
            "   macro avg       0.98      0.98      0.98        45\n",
            "weighted avg       0.98      0.98      0.98        45\n",
            "\n"
          ]
        }
      ]
    },
    {
      "cell_type": "code",
      "source": [
        "from sklearn import svm\n",
        "clsvm = svm.SVC(kernel=\"poly\").fit(Xtrain,ytrain)\n",
        "clsvm.score(Xtest,ytest)"
      ],
      "metadata": {
        "colab": {
          "base_uri": "https://localhost:8080/"
        },
        "id": "YFx9sA9v7BvQ",
        "outputId": "2499fbbe-3d94-420b-a794-12d3001754f9"
      },
      "execution_count": 29,
      "outputs": [
        {
          "output_type": "execute_result",
          "data": {
            "text/plain": [
              "0.8938053097345132"
            ]
          },
          "metadata": {},
          "execution_count": 29
        }
      ]
    },
    {
      "cell_type": "markdown",
      "source": [
        "**changer alpha**"
      ],
      "metadata": {
        "id": "OG4Z_YPHAVBT"
      }
    },
    {
      "cell_type": "markdown",
      "source": [
        "2. Choisissez le modèle qui propose de meilleurs résultats, et tentez d’améliorer ces résultats en\n",
        "faisant varier la magnitude de la régularisation L2 (paramètre) Parvenez-vous à battre le SVM ? Si oui, avec quels hyper-paramètres finaux de votre MLP ?"
      ],
      "metadata": {
        "id": "Hdbrgzyv36Rr"
      }
    },
    {
      "cell_type": "code",
      "source": [
        "from sklearn.model_selection import GridSearchCV\n",
        "parameters = {'alpha': 10.0 ** -np.arange(1, 10)}\n",
        "clf= GridSearchCV(MLPClassifier(hidden_layer_sizes=(300,150,100,50,10),solver=\"lbfgs\"), parameters, n_jobs=-1)\n",
        "start_time = time.time()\n",
        "clf1=clf.fit(Xtrain,ytrain)\n",
        "end_time = time.time()\n",
        "ypred1=clf1.predict(Xtest)\n",
        "#print(f\"nombre de couches cachées : {clf.n_layers_ - 2}\")\n",
        "print(\"temps de convergence = \"+str(end_time - start_time))\n",
        "#print(\"Nombre d'iterations = \", clf.n_iter_)\n",
        "print(\"accuracy est =\", clf1.score(Xtest, ytest))\n",
        "print(\"La meilleur valeur de Alpha:\",clf1.best_estimator_)"
      ],
      "metadata": {
        "id": "Rd-kp3fK63eA",
        "colab": {
          "base_uri": "https://localhost:8080/"
        },
        "outputId": "93f427d1-f024-4d89-9ea5-c8bba45bb5c6"
      },
      "execution_count": 43,
      "outputs": [
        {
          "output_type": "stream",
          "name": "stdout",
          "text": [
            "temps de convergence = 66.53261184692383\n",
            "accuracy est = 0.9777777777777777\n",
            "La meilleur valeur de Alpha: MLPClassifier(alpha=0.01, hidden_layer_sizes=(300, 150, 100, 50, 10),\n",
            "              solver='lbfgs')\n"
          ]
        }
      ]
    },
    {
      "cell_type": "markdown",
      "source": [
        "# Travail sur le jeu de données MNIST"
      ],
      "metadata": {
        "id": "MdkuDhZEqShK"
      }
    },
    {
      "cell_type": "code",
      "source": [
        "from keras.datasets import mnist"
      ],
      "metadata": {
        "id": "IL86TBFoqUxy"
      },
      "execution_count": 53,
      "outputs": []
    },
    {
      "cell_type": "code",
      "source": [
        "(train_X, train_y), (test_X, test_y) = mnist.load_data()"
      ],
      "metadata": {
        "colab": {
          "base_uri": "https://localhost:8080/"
        },
        "id": "0wmtXVqCvECc",
        "outputId": "452e2699-ff94-42b6-f4fe-97643d740530"
      },
      "execution_count": 54,
      "outputs": [
        {
          "output_type": "stream",
          "name": "stdout",
          "text": [
            "Downloading data from https://storage.googleapis.com/tensorflow/tf-keras-datasets/mnist.npz\n",
            "11490434/11490434 [==============================] - 0s 0us/step\n"
          ]
        }
      ]
    },
    {
      "cell_type": "code",
      "source": [
        "print('X_train: ' + str(train_X.shape))\n",
        "print('Y_train: ' + str(train_y.shape))\n",
        "print('X_test:  '  + str(test_X.shape))\n",
        "print('Y_test:  '  + str(test_y.shape))"
      ],
      "metadata": {
        "colab": {
          "base_uri": "https://localhost:8080/"
        },
        "id": "Wfgmbl2hvW7Z",
        "outputId": "f5f6d20c-3934-49d1-c8c1-4ce194f6de5f"
      },
      "execution_count": 55,
      "outputs": [
        {
          "output_type": "stream",
          "name": "stdout",
          "text": [
            "X_train: (60000, 28, 28)\n",
            "Y_train: (60000,)\n",
            "X_test:  (10000, 28, 28)\n",
            "Y_test:  (10000,)\n"
          ]
        }
      ]
    },
    {
      "cell_type": "code",
      "source": [
        "for i in range(2):  \n",
        "  plt.subplot(330 + 1 + i)\n",
        "  plt.imshow(train_X[i], cmap=plt.get_cmap('gray'))\n",
        "  plt.show()"
      ],
      "metadata": {
        "colab": {
          "base_uri": "https://localhost:8080/",
          "height": 213
        },
        "id": "MsHpw0vMv_s2",
        "outputId": "f9f5591a-d0d2-4ce1-85fa-4d4180c3ba2a"
      },
      "execution_count": 56,
      "outputs": [
        {
          "output_type": "display_data",
          "data": {
            "text/plain": [
              "<Figure size 432x288 with 1 Axes>"
            ],
            "image/png": "[encoded data removed]"
          },
          "metadata": {
            "needs_background": "light"
          }
        },
        {
          "output_type": "display_data",
          "data": {
            "text/plain": [
              "<Figure size 432x288 with 1 Axes>"
            ],
            "image/png": "[encoded data removed]"
          },
          "metadata": {
            "needs_background": "light"
          }
        }
      ]
    },
    {
      "cell_type": "code",
      "source": [
        "train_X.shape"
      ],
      "metadata": {
        "id": "-KDsXWudzCtB",
        "colab": {
          "base_uri": "https://localhost:8080/"
        },
        "outputId": "6ef4af57-d1f9-4d49-9b73-038409b6d431"
      },
      "execution_count": 57,
      "outputs": [
        {
          "output_type": "execute_result",
          "data": {
            "text/plain": [
              "(60000, 28, 28)"
            ]
          },
          "metadata": {},
          "execution_count": 57
        }
      ]
    },
    {
      "cell_type": "code",
      "source": [
        "nsamples, nx, ny = train_X.shape\n",
        "train_X = train_X.reshape((nsamples,nx*ny))\n",
        "nsamples1, nx1, ny1 = test_X.shape\n",
        "test_X= test_X.reshape((nsamples1,nx1*ny1))\n",
        "train_X.shape"
      ],
      "metadata": {
        "id": "93LdQW1fzfw5",
        "colab": {
          "base_uri": "https://localhost:8080/"
        },
        "outputId": "6ac21f33-1e4b-4b30-d15f-c614859b598e"
      },
      "execution_count": 58,
      "outputs": [
        {
          "output_type": "execute_result",
          "data": {
            "text/plain": [
              "(60000, 784)"
            ]
          },
          "metadata": {},
          "execution_count": 58
        }
      ]
    },
    {
      "cell_type": "code",
      "source": [
        "#5 couche\n",
        "start_time= time.time()\n",
        "Mnist_clf=MLPClassifier(hidden_layer_sizes=(300,)).fit(train_X,train_y)\n",
        "end_time = time.time()\n"
      ],
      "metadata": {
        "id": "AFZ6H31OvbDS",
        "colab": {
          "base_uri": "https://localhost:8080/"
        },
        "outputId": "aea68e35-a00a-4c9e-e808-2fe680b8e264"
      },
      "execution_count": 59,
      "outputs": [
        {
          "output_type": "stream",
          "name": "stderr",
          "text": [
            "/usr/local/lib/python3.7/dist-packages/sklearn/neural_network/_multilayer_perceptron.py:699: UserWarning: Training interrupted by user.\n",
            "  warnings.warn(\"Training interrupted by user.\")\n"
          ]
        }
      ]
    },
    {
      "cell_type": "code",
      "source": [
        "ypredMnist=Mnist_clf.predict(test_X)\n",
        "print(\"temps de convergence = \"+str(end_time - start_time))\n",
        "print(\"Nombre d'iterations = \", Mnist_clf.n_iter_)\n",
        "print(classification_report(test_y, ypredMnist))\n",
        "plot_confusion_matrix(Mnist_clf, test_X,test_y)  \n",
        "plt.show()"
      ],
      "metadata": {
        "id": "HBEfcoQSyQ3Y",
        "colab": {
          "base_uri": "https://localhost:8080/",
          "height": 683
        },
        "outputId": "d73917ef-a904-4e54-a971-634fa5f903ad"
      },
      "execution_count": 60,
      "outputs": [
        {
          "output_type": "stream",
          "name": "stdout",
          "text": [
            "temps de convergence = 181.68292570114136\n",
            "Nombre d'iterations =  39\n",
            "              precision    recall  f1-score   support\n",
            "\n",
            "           0       0.99      0.98      0.98       980\n",
            "           1       0.99      0.99      0.99      1135\n",
            "           2       0.97      0.98      0.98      1032\n",
            "           3       0.96      0.98      0.97      1010\n",
            "           4       0.98      0.97      0.97       982\n",
            "           5       0.98      0.97      0.97       892\n",
            "           6       0.98      0.99      0.98       958\n",
            "           7       0.98      0.96      0.97      1028\n",
            "           8       0.97      0.96      0.96       974\n",
            "           9       0.95      0.97      0.96      1009\n",
            "\n",
            "    accuracy                           0.98     10000\n",
            "   macro avg       0.98      0.97      0.97     10000\n",
            "weighted avg       0.98      0.98      0.98     10000\n",
            "\n"
          ]
        },
        {
          "output_type": "stream",
          "name": "stderr",
          "text": [
            "/usr/local/lib/python3.7/dist-packages/sklearn/utils/deprecation.py:87: FutureWarning: Function plot_confusion_matrix is deprecated; Function `plot_confusion_matrix` is deprecated in 1.0 and will be removed in 1.2. Use one of the class methods: ConfusionMatrixDisplay.from_predictions or ConfusionMatrixDisplay.from_estimator.\n",
            "  warnings.warn(msg, category=FutureWarning)\n"
          ]
        },
        {
          "output_type": "display_data",
          "data": {
            "text/plain": [
              "<Figure size 432x288 with 2 Axes>"
            ],
            "image/png": "[encoded data removed]"
          },
          "metadata": {
            "needs_background": "light"
          }
        }
      ]
    },
    {
      "cell_type": "markdown",
      "source": [
        "En faisant varier les différents hyper-paramètres du modèle, avec ou sans pre-processing, et en\n",
        "utilisant une GridSearch, parvenez-vous à battre les quelques références ci-après ? Indiquez le temps\n",
        "d’apprentissage du modèle et tous ses hyper-paramètres et paramètres."
      ],
      "metadata": {
        "id": "kFfqucsmvhPk"
      }
    },
    {
      "cell_type": "code",
      "source": [
        "#GridSearch\n",
        "from sklearn.model_selection import GridSearchCV\n",
        "parameters = {'solver': ['lbfgs','adam','sgd'], 'max_iter': [1000,1100,1200,1300,1400,1500,1600,1700,1800,1900,2000 ], 'alpha': 10.0 ** -np.arange(1, 10)\n",
        "              ,'activation':['identity', 'logistic', 'tanh', 'relu']}\n",
        "clf_mnist = GridSearchCV(MLPClassifier(hidden_layer_sizes=(100,)), parameters, n_jobs=-1)\n",
        "clf_mnist.fit(train_X,train_y)\n",
        "print(\"Meilleur score : \" + str(clf_mnist.best_estimator_.score(test_X, test_y)))\n"
      ],
      "metadata": {
        "id": "CHnhxCkgHHuh"
      },
      "execution_count": null,
      "outputs": []
    }
  ]
}